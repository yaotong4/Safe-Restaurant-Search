{
  "nbformat": 4,
  "nbformat_minor": 0,
  "metadata": {
    "kernelspec": {
      "display_name": "Python 3",
      "language": "python",
      "name": "python3"
    },
    "language_info": {
      "codemirror_mode": {
        "name": "ipython",
        "version": 3
      },
      "file_extension": ".py",
      "mimetype": "text/x-python",
      "name": "python",
      "nbconvert_exporter": "python",
      "pygments_lexer": "ipython3",
      "version": "3.8.5"
    },
    "colab": {
      "name": "pre.ipynb",
      "provenance": []
    },
    "accelerator": "GPU"
  },
  "cells": [
    {
      "cell_type": "code",
      "metadata": {
        "colab": {
          "base_uri": "https://localhost:8080/"
        },
        "id": "LPHo1dAKAvG5",
        "outputId": "d2e1379e-df1e-4c2b-c372-4ed55c88698c"
      },
      "source": [
        "from google.colab import drive\n",
        "drive.mount('/content/drive/')"
      ],
      "execution_count": null,
      "outputs": [
        {
          "output_type": "stream",
          "text": [
            "Mounted at /content/drive/\n"
          ],
          "name": "stdout"
        }
      ]
    },
    {
      "cell_type": "code",
      "metadata": {
        "colab": {
          "base_uri": "https://localhost:8080/"
        },
        "id": "Q_X2eGM_0yym",
        "outputId": "e1d28be3-ba81-4931-fe93-4b45e690d22d"
      },
      "source": [
        "!pip install jsonlines"
      ],
      "execution_count": null,
      "outputs": [
        {
          "output_type": "stream",
          "text": [
            "Collecting jsonlines\n",
            "  Downloading https://files.pythonhosted.org/packages/d4/58/06f430ff7607a2929f80f07bfd820acbc508a4e977542fefcc522cde9dff/jsonlines-2.0.0-py3-none-any.whl\n",
            "Installing collected packages: jsonlines\n",
            "Successfully installed jsonlines-2.0.0\n"
          ],
          "name": "stdout"
        }
      ]
    },
    {
      "cell_type": "code",
      "metadata": {
        "id": "79g6QPTOAuGu"
      },
      "source": [
        "import pandas as pd\n",
        "import numpy\n",
        "import jsonlines"
      ],
      "execution_count": null,
      "outputs": []
    },
    {
      "cell_type": "code",
      "metadata": {
        "id": "NmcVQWcXAuGx"
      },
      "source": [
        "busi_df = pd.read_json('/content/drive/MyDrive/550proj/yelp_academic_dataset_business.json', lines = True)\n"
      ],
      "execution_count": null,
      "outputs": []
    },
    {
      "cell_type": "code",
      "metadata": {
        "id": "JjFu7v1-AuGx"
      },
      "source": [
        "columns = ['business_id','name','address','city', 'state','postal_code', 'stars', 'review_count','categories','hours']\n",
        "busi_df = busi_df[columns]"
      ],
      "execution_count": null,
      "outputs": []
    },
    {
      "cell_type": "code",
      "metadata": {
        "id": "J3y-JQbAAuGy",
        "colab": {
          "base_uri": "https://localhost:8080/"
        },
        "outputId": "59e7f737-70a7-43cd-e1cb-5635f989f6e6"
      },
      "source": [
        "busi_df.dropna(inplace = True)"
      ],
      "execution_count": null,
      "outputs": [
        {
          "output_type": "stream",
          "text": [
            "/usr/local/lib/python3.7/dist-packages/ipykernel_launcher.py:1: SettingWithCopyWarning: \n",
            "A value is trying to be set on a copy of a slice from a DataFrame\n",
            "\n",
            "See the caveats in the documentation: https://pandas.pydata.org/pandas-docs/stable/user_guide/indexing.html#returning-a-view-versus-a-copy\n",
            "  \"\"\"Entry point for launching an IPython kernel.\n"
          ],
          "name": "stderr"
        }
      ]
    },
    {
      "cell_type": "code",
      "metadata": {
        "scrolled": true,
        "id": "aZwOXtC_AuGy"
      },
      "source": [
        "rest_df = busi_df[busi_df['categories'].str.contains(\"Restaurant\")].reset_index(drop = True)"
      ],
      "execution_count": null,
      "outputs": []
    },
    {
      "cell_type": "code",
      "metadata": {
        "scrolled": true,
        "id": "rWwP_FcRAuGy"
      },
      "source": [
        "count_df = rest_df[['business_id','state']].groupby('state', as_index = True).count()"
      ],
      "execution_count": null,
      "outputs": []
    },
    {
      "cell_type": "code",
      "metadata": {
        "id": "0Dhst1HDAuGz"
      },
      "source": [
        "count_df = count_df.rename(columns={'business_id':'count'}).sort_values(['count'], ascending=False)"
      ],
      "execution_count": null,
      "outputs": []
    },
    {
      "cell_type": "code",
      "metadata": {
        "id": "A4rGYFHjAuGz"
      },
      "source": [
        "rest_df = rest_df[rest_df['state'] != 'BC']"
      ],
      "execution_count": null,
      "outputs": []
    },
    {
      "cell_type": "code",
      "metadata": {
        "scrolled": true,
        "colab": {
          "base_uri": "https://localhost:8080/",
          "height": 589
        },
        "id": "5TLrSA7vAuGz",
        "outputId": "f5e11b07-4fb5-4519-ee30-8338eb38fdd9"
      },
      "source": [
        "rest_df"
      ],
      "execution_count": null,
      "outputs": [
        {
          "output_type": "execute_result",
          "data": {
            "text/html": [
              "<div>\n",
              "<style scoped>\n",
              "    .dataframe tbody tr th:only-of-type {\n",
              "        vertical-align: middle;\n",
              "    }\n",
              "\n",
              "    .dataframe tbody tr th {\n",
              "        vertical-align: top;\n",
              "    }\n",
              "\n",
              "    .dataframe thead th {\n",
              "        text-align: right;\n",
              "    }\n",
              "</style>\n",
              "<table border=\"1\" class=\"dataframe\">\n",
              "  <thead>\n",
              "    <tr style=\"text-align: right;\">\n",
              "      <th></th>\n",
              "      <th>business_id</th>\n",
              "      <th>name</th>\n",
              "      <th>address</th>\n",
              "      <th>city</th>\n",
              "      <th>state</th>\n",
              "      <th>postal_code</th>\n",
              "      <th>stars</th>\n",
              "      <th>review_count</th>\n",
              "      <th>categories</th>\n",
              "      <th>hours</th>\n",
              "    </tr>\n",
              "  </thead>\n",
              "  <tbody>\n",
              "    <tr>\n",
              "      <th>0</th>\n",
              "      <td>6iYb2HFDywm3zjuRg0shjw</td>\n",
              "      <td>Oskar Blues Taproom</td>\n",
              "      <td>921 Pearl St</td>\n",
              "      <td>Boulder</td>\n",
              "      <td>CO</td>\n",
              "      <td>80302</td>\n",
              "      <td>4.0</td>\n",
              "      <td>86</td>\n",
              "      <td>Gastropubs, Food, Beer Gardens, Restaurants, B...</td>\n",
              "      <td>{'Monday': '11:0-23:0', 'Tuesday': '11:0-23:0'...</td>\n",
              "    </tr>\n",
              "    <tr>\n",
              "      <th>1</th>\n",
              "      <td>tCbdrRPZA0oiIYSmHG3J0w</td>\n",
              "      <td>Flying Elephants at PDX</td>\n",
              "      <td>7000 NE Airport Way</td>\n",
              "      <td>Portland</td>\n",
              "      <td>OR</td>\n",
              "      <td>97218</td>\n",
              "      <td>4.0</td>\n",
              "      <td>126</td>\n",
              "      <td>Salad, Soup, Sandwiches, Delis, Restaurants, C...</td>\n",
              "      <td>{'Monday': '5:0-18:0', 'Tuesday': '5:0-17:0', ...</td>\n",
              "    </tr>\n",
              "    <tr>\n",
              "      <th>3</th>\n",
              "      <td>jFYIsSb7r1QeESVUnXPHBw</td>\n",
              "      <td>Boxwood Biscuit</td>\n",
              "      <td>740 S High St</td>\n",
              "      <td>Columbus</td>\n",
              "      <td>OH</td>\n",
              "      <td>43206</td>\n",
              "      <td>4.5</td>\n",
              "      <td>11</td>\n",
              "      <td>Breakfast &amp; Brunch, Restaurants</td>\n",
              "      <td>{'Saturday': '8:0-14:0', 'Sunday': '8:0-14:0'}</td>\n",
              "    </tr>\n",
              "    <tr>\n",
              "      <th>4</th>\n",
              "      <td>HPA_qyMEddpAEtFof02ixg</td>\n",
              "      <td>Mr G's Pizza &amp; Subs</td>\n",
              "      <td>474 Lowell St</td>\n",
              "      <td>Peabody</td>\n",
              "      <td>MA</td>\n",
              "      <td>01960</td>\n",
              "      <td>4.0</td>\n",
              "      <td>39</td>\n",
              "      <td>Food, Pizza, Restaurants</td>\n",
              "      <td>{'Monday': '11:0-21:0', 'Tuesday': '11:0-21:0'...</td>\n",
              "    </tr>\n",
              "    <tr>\n",
              "      <th>5</th>\n",
              "      <td>ufCxltuh56FF4-ZFZ6cVhg</td>\n",
              "      <td>Sister Honey's</td>\n",
              "      <td>247 E Michigan St</td>\n",
              "      <td>Orlando</td>\n",
              "      <td>FL</td>\n",
              "      <td>32806</td>\n",
              "      <td>4.5</td>\n",
              "      <td>135</td>\n",
              "      <td>Restaurants, American (New), Bakeries, Dessert...</td>\n",
              "      <td>{'Tuesday': '11:0-18:0', 'Wednesday': '11:0-18...</td>\n",
              "    </tr>\n",
              "    <tr>\n",
              "      <th>...</th>\n",
              "      <td>...</td>\n",
              "      <td>...</td>\n",
              "      <td>...</td>\n",
              "      <td>...</td>\n",
              "      <td>...</td>\n",
              "      <td>...</td>\n",
              "      <td>...</td>\n",
              "      <td>...</td>\n",
              "      <td>...</td>\n",
              "      <td>...</td>\n",
              "    </tr>\n",
              "    <tr>\n",
              "      <th>42899</th>\n",
              "      <td>r5Uag1JqYjr2nbxQCVqm8A</td>\n",
              "      <td>Saigon Noodle &amp; Grill</td>\n",
              "      <td>101 N Bumby Ave</td>\n",
              "      <td>Orlando</td>\n",
              "      <td>FL</td>\n",
              "      <td>32803</td>\n",
              "      <td>4.5</td>\n",
              "      <td>437</td>\n",
              "      <td>Restaurants, Noodles, Salad, Vietnamese, Veget...</td>\n",
              "      <td>{'Monday': '0:0-0:0', 'Tuesday': '10:30-21:30'...</td>\n",
              "    </tr>\n",
              "    <tr>\n",
              "      <th>42900</th>\n",
              "      <td>Zl6SUy6x9jqjRu2HbtEO6A</td>\n",
              "      <td>Split Dine and Drink</td>\n",
              "      <td>7335 SW Bridgeport Rd</td>\n",
              "      <td>Tigard</td>\n",
              "      <td>OR</td>\n",
              "      <td>97224</td>\n",
              "      <td>2.0</td>\n",
              "      <td>48</td>\n",
              "      <td>American (Traditional), Desserts, American (Ne...</td>\n",
              "      <td>{'Monday': '11:0-23:0', 'Tuesday': '11:0-23:0'...</td>\n",
              "    </tr>\n",
              "    <tr>\n",
              "      <th>42901</th>\n",
              "      <td>Q78fYV6B6P6GmX07YVgi4g</td>\n",
              "      <td>Maudie’s Hill Country</td>\n",
              "      <td>12506 Shops Pkwy</td>\n",
              "      <td>Bee Cave</td>\n",
              "      <td>TX</td>\n",
              "      <td>78738</td>\n",
              "      <td>3.0</td>\n",
              "      <td>310</td>\n",
              "      <td>Mexican, Bars, Nightlife, Tex-Mex, Restaurants</td>\n",
              "      <td>{'Monday': '0:0-0:0', 'Tuesday': '9:0-21:0', '...</td>\n",
              "    </tr>\n",
              "    <tr>\n",
              "      <th>42902</th>\n",
              "      <td>uXdQkuEtvLAzfc3MsO-sTQ</td>\n",
              "      <td>Mama's Cocina Latina</td>\n",
              "      <td>1958 Piedmont Rd NE</td>\n",
              "      <td>Atlanta</td>\n",
              "      <td>GA</td>\n",
              "      <td>30324</td>\n",
              "      <td>3.0</td>\n",
              "      <td>185</td>\n",
              "      <td>Restaurants, Mexican, Latin American</td>\n",
              "      <td>{'Monday': '0:0-0:0', 'Tuesday': '0:0-0:0', 'W...</td>\n",
              "    </tr>\n",
              "    <tr>\n",
              "      <th>42903</th>\n",
              "      <td>ngmLL5Y5OT-bYHKU0kKrYA</td>\n",
              "      <td>Zora Grille</td>\n",
              "      <td>1370 E Altamonte Dr</td>\n",
              "      <td>Altamonte Springs</td>\n",
              "      <td>FL</td>\n",
              "      <td>32701</td>\n",
              "      <td>4.5</td>\n",
              "      <td>82</td>\n",
              "      <td>Restaurants, Middle Eastern, Mediterranean, Pe...</td>\n",
              "      <td>{'Tuesday': '17:0-21:0', 'Wednesday': '17:0-21...</td>\n",
              "    </tr>\n",
              "  </tbody>\n",
              "</table>\n",
              "<p>36757 rows × 10 columns</p>\n",
              "</div>"
            ],
            "text/plain": [
              "                  business_id  ...                                              hours\n",
              "0      6iYb2HFDywm3zjuRg0shjw  ...  {'Monday': '11:0-23:0', 'Tuesday': '11:0-23:0'...\n",
              "1      tCbdrRPZA0oiIYSmHG3J0w  ...  {'Monday': '5:0-18:0', 'Tuesday': '5:0-17:0', ...\n",
              "3      jFYIsSb7r1QeESVUnXPHBw  ...     {'Saturday': '8:0-14:0', 'Sunday': '8:0-14:0'}\n",
              "4      HPA_qyMEddpAEtFof02ixg  ...  {'Monday': '11:0-21:0', 'Tuesday': '11:0-21:0'...\n",
              "5      ufCxltuh56FF4-ZFZ6cVhg  ...  {'Tuesday': '11:0-18:0', 'Wednesday': '11:0-18...\n",
              "...                       ...  ...                                                ...\n",
              "42899  r5Uag1JqYjr2nbxQCVqm8A  ...  {'Monday': '0:0-0:0', 'Tuesday': '10:30-21:30'...\n",
              "42900  Zl6SUy6x9jqjRu2HbtEO6A  ...  {'Monday': '11:0-23:0', 'Tuesday': '11:0-23:0'...\n",
              "42901  Q78fYV6B6P6GmX07YVgi4g  ...  {'Monday': '0:0-0:0', 'Tuesday': '9:0-21:0', '...\n",
              "42902  uXdQkuEtvLAzfc3MsO-sTQ  ...  {'Monday': '0:0-0:0', 'Tuesday': '0:0-0:0', 'W...\n",
              "42903  ngmLL5Y5OT-bYHKU0kKrYA  ...  {'Tuesday': '17:0-21:0', 'Wednesday': '17:0-21...\n",
              "\n",
              "[36757 rows x 10 columns]"
            ]
          },
          "metadata": {
            "tags": []
          },
          "execution_count": 13
        }
      ]
    },
    {
      "cell_type": "code",
      "metadata": {
        "id": "u1v_MeyhxVIH"
      },
      "source": [
        "rest_df.to_json('/content/drive/MyDrive/550proj/rest.json', orient= 'records', lines = True)"
      ],
      "execution_count": null,
      "outputs": []
    },
    {
      "cell_type": "code",
      "metadata": {
        "id": "Ff85S3vlrU6v"
      },
      "source": [
        "busi_arr = rest_df.business_id.to_numpy()"
      ],
      "execution_count": null,
      "outputs": []
    },
    {
      "cell_type": "code",
      "metadata": {
        "id": "1gziVpKv2Z4H"
      },
      "source": [
        "res_dict = {res:0 for res in busi_arr}"
      ],
      "execution_count": null,
      "outputs": []
    },
    {
      "cell_type": "code",
      "metadata": {
        "id": "5EVFKF142iDS"
      },
      "source": [
        "res_dict"
      ],
      "execution_count": null,
      "outputs": []
    },
    {
      "cell_type": "code",
      "metadata": {
        "id": "LLD66lcVAuG1"
      },
      "source": [
        "toread = [\"review_id\",\"business_id\",\"stars\",\"date\",\"text\"]"
      ],
      "execution_count": null,
      "outputs": []
    },
    {
      "cell_type": "code",
      "metadata": {
        "id": "7Z_vLnnPAuG2"
      },
      "source": [
        "\n",
        "data = jsonlines.open('/content/drive/MyDrive/550proj/yelp_academic_dataset_review.json')"
      ],
      "execution_count": null,
      "outputs": []
    },
    {
      "cell_type": "code",
      "metadata": {
        "id": "UbCqnJfTk4FQ"
      },
      "source": [
        "import pandas as pd"
      ],
      "execution_count": null,
      "outputs": []
    },
    {
      "cell_type": "code",
      "metadata": {
        "id": "fbXL6agTAuG3"
      },
      "source": [
        "review_df = pd.DataFrame(columns=toread)"
      ],
      "execution_count": null,
      "outputs": []
    },
    {
      "cell_type": "code",
      "metadata": {
        "id": "aNpgLqZ7AuG3"
      },
      "source": [
        "i = 0\n",
        "df_list = []\n",
        "for line in data.iter():\n",
        "  if line['business_id'] in busi_arr and res_dict[line['business_id']] < 10:\n",
        "    i+=1\n",
        "    res_dict[line['business_id']]+= 1\n",
        "    df_list.append(pd.DataFrame([[line[c] for c in toread]], columns = toread))\n",
        "    if i % 1000 == 0:\n",
        "      print(len(df_list))"
      ],
      "execution_count": null,
      "outputs": []
    },
    {
      "cell_type": "code",
      "metadata": {
        "id": "RMhwMvwFuIFp"
      },
      "source": [
        "see = pd.concat(df_list, ignore_index = True)"
      ],
      "execution_count": null,
      "outputs": []
    },
    {
      "cell_type": "code",
      "metadata": {
        "colab": {
          "base_uri": "https://localhost:8080/",
          "height": 419
        },
        "id": "T95gx61iuyeo",
        "outputId": "a6723797-f349-4d19-f844-129a8d000440"
      },
      "source": [
        "see"
      ],
      "execution_count": null,
      "outputs": [
        {
          "output_type": "execute_result",
          "data": {
            "text/html": [
              "<div>\n",
              "<style scoped>\n",
              "    .dataframe tbody tr th:only-of-type {\n",
              "        vertical-align: middle;\n",
              "    }\n",
              "\n",
              "    .dataframe tbody tr th {\n",
              "        vertical-align: top;\n",
              "    }\n",
              "\n",
              "    .dataframe thead th {\n",
              "        text-align: right;\n",
              "    }\n",
              "</style>\n",
              "<table border=\"1\" class=\"dataframe\">\n",
              "  <thead>\n",
              "    <tr style=\"text-align: right;\">\n",
              "      <th></th>\n",
              "      <th>review_id</th>\n",
              "      <th>business_id</th>\n",
              "      <th>stars</th>\n",
              "      <th>date</th>\n",
              "      <th>text</th>\n",
              "    </tr>\n",
              "  </thead>\n",
              "  <tbody>\n",
              "    <tr>\n",
              "      <th>0</th>\n",
              "      <td>ucJWCf4EGNFPOT3sdGbKXw</td>\n",
              "      <td>XGTL9OtvS3rHCZAGuyNoew</td>\n",
              "      <td>5.0</td>\n",
              "      <td>2016-12-06 19:49:01</td>\n",
              "      <td>Best coffee in the entire town they have many ...</td>\n",
              "    </tr>\n",
              "    <tr>\n",
              "      <th>1</th>\n",
              "      <td>jXThcxVzWhCoQeq5CWQkHA</td>\n",
              "      <td>Hf32W0LKC5lJZ1U0ADIC-w</td>\n",
              "      <td>5.0</td>\n",
              "      <td>2018-09-16 01:42:55</td>\n",
              "      <td>Great experience and awesome chocolate. This p...</td>\n",
              "    </tr>\n",
              "    <tr>\n",
              "      <th>2</th>\n",
              "      <td>9nzK-JwtlMg-bVNqFJgB9w</td>\n",
              "      <td>p2BkIrOuIsxGqtV0lwOZUw</td>\n",
              "      <td>3.0</td>\n",
              "      <td>2016-05-22 01:22:17</td>\n",
              "      <td>I don't know what happened....\\n\\nWhile they w...</td>\n",
              "    </tr>\n",
              "    <tr>\n",
              "      <th>3</th>\n",
              "      <td>l3KcXEz5YPMbU5bbWbEmqg</td>\n",
              "      <td>PPIqBapOuuBQtrCQ63ZJLw</td>\n",
              "      <td>5.0</td>\n",
              "      <td>2017-11-09 17:42:23</td>\n",
              "      <td>The food is very good.  Had the chicken bbq, w...</td>\n",
              "    </tr>\n",
              "    <tr>\n",
              "      <th>4</th>\n",
              "      <td>ecFdaFR6EgPWxCozlhV5ag</td>\n",
              "      <td>iIJkKsHcql8rjhPluacs-A</td>\n",
              "      <td>5.0</td>\n",
              "      <td>2018-02-04 01:25:42</td>\n",
              "      <td>My partners favorite  sandwich place. He final...</td>\n",
              "    </tr>\n",
              "    <tr>\n",
              "      <th>...</th>\n",
              "      <td>...</td>\n",
              "      <td>...</td>\n",
              "      <td>...</td>\n",
              "      <td>...</td>\n",
              "      <td>...</td>\n",
              "    </tr>\n",
              "    <tr>\n",
              "      <th>347584</th>\n",
              "      <td>6u_llFrgxTABGTORvM75iA</td>\n",
              "      <td>gWPQYSW6IYcr6ehlmUkPeg</td>\n",
              "      <td>4.0</td>\n",
              "      <td>2020-12-31 08:45:09</td>\n",
              "      <td>I'm really pleased we found The Orient. What a...</td>\n",
              "    </tr>\n",
              "    <tr>\n",
              "      <th>347585</th>\n",
              "      <td>vGywIKXwI230DoX_6mhjow</td>\n",
              "      <td>8KD3Lo4lAQYH-LSer2hDwg</td>\n",
              "      <td>5.0</td>\n",
              "      <td>2020-12-15 01:40:24</td>\n",
              "      <td>Great place and Great Food.  Lots of TVs a ver...</td>\n",
              "    </tr>\n",
              "    <tr>\n",
              "      <th>347586</th>\n",
              "      <td>EOsfn26kV3Wnn7HYux76EQ</td>\n",
              "      <td>1gdyYJAGzwfaukJo9WIChg</td>\n",
              "      <td>5.0</td>\n",
              "      <td>2020-11-18 23:04:04</td>\n",
              "      <td>Great location-fantastic crowd- amazing staff ...</td>\n",
              "    </tr>\n",
              "    <tr>\n",
              "      <th>347587</th>\n",
              "      <td>dQv7LDF-gLs-A9lSpB3wrw</td>\n",
              "      <td>FHmQ5tYi68wfO_dSk8fs9w</td>\n",
              "      <td>4.0</td>\n",
              "      <td>2020-12-09 00:59:51</td>\n",
              "      <td>Bogo (buy one get one) Tuesday's is where you'...</td>\n",
              "    </tr>\n",
              "    <tr>\n",
              "      <th>347588</th>\n",
              "      <td>zqCnwmS0ii7KIAH18NeP0Q</td>\n",
              "      <td>H-NwqS6zuF1zzJ4wyUe3cg</td>\n",
              "      <td>5.0</td>\n",
              "      <td>2020-12-23 20:34:41</td>\n",
              "      <td>Wish there were more stars to give as these pe...</td>\n",
              "    </tr>\n",
              "  </tbody>\n",
              "</table>\n",
              "<p>347589 rows × 5 columns</p>\n",
              "</div>"
            ],
            "text/plain": [
              "                     review_id  ...                                               text\n",
              "0       ucJWCf4EGNFPOT3sdGbKXw  ...  Best coffee in the entire town they have many ...\n",
              "1       jXThcxVzWhCoQeq5CWQkHA  ...  Great experience and awesome chocolate. This p...\n",
              "2       9nzK-JwtlMg-bVNqFJgB9w  ...  I don't know what happened....\\n\\nWhile they w...\n",
              "3       l3KcXEz5YPMbU5bbWbEmqg  ...  The food is very good.  Had the chicken bbq, w...\n",
              "4       ecFdaFR6EgPWxCozlhV5ag  ...  My partners favorite  sandwich place. He final...\n",
              "...                        ...  ...                                                ...\n",
              "347584  6u_llFrgxTABGTORvM75iA  ...  I'm really pleased we found The Orient. What a...\n",
              "347585  vGywIKXwI230DoX_6mhjow  ...  Great place and Great Food.  Lots of TVs a ver...\n",
              "347586  EOsfn26kV3Wnn7HYux76EQ  ...  Great location-fantastic crowd- amazing staff ...\n",
              "347587  dQv7LDF-gLs-A9lSpB3wrw  ...  Bogo (buy one get one) Tuesday's is where you'...\n",
              "347588  zqCnwmS0ii7KIAH18NeP0Q  ...  Wish there were more stars to give as these pe...\n",
              "\n",
              "[347589 rows x 5 columns]"
            ]
          },
          "metadata": {
            "tags": []
          },
          "execution_count": 51
        }
      ]
    },
    {
      "cell_type": "code",
      "metadata": {
        "id": "GBmAW5f3vDIu"
      },
      "source": [
        "see.to_json('/content/drive/MyDrive/550proj/reviews.json', orient = 'records', lines = True)"
      ],
      "execution_count": null,
      "outputs": []
    },
    {
      "cell_type": "code",
      "metadata": {
        "id": "Q7NIc45ovUrw"
      },
      "source": [
        "new_d = jsonlines.open('reviews.json')"
      ],
      "execution_count": null,
      "outputs": []
    },
    {
      "cell_type": "code",
      "metadata": {
        "colab": {
          "base_uri": "https://localhost:8080/",
          "height": 359
        },
        "id": "Mp8xNZo5vt7l",
        "outputId": "60bb7738-11d9-4fe6-b2a2-16721f2b8eb3"
      },
      "source": [
        "see.head(10)"
      ],
      "execution_count": null,
      "outputs": [
        {
          "output_type": "execute_result",
          "data": {
            "text/html": [
              "<div>\n",
              "<style scoped>\n",
              "    .dataframe tbody tr th:only-of-type {\n",
              "        vertical-align: middle;\n",
              "    }\n",
              "\n",
              "    .dataframe tbody tr th {\n",
              "        vertical-align: top;\n",
              "    }\n",
              "\n",
              "    .dataframe thead th {\n",
              "        text-align: right;\n",
              "    }\n",
              "</style>\n",
              "<table border=\"1\" class=\"dataframe\">\n",
              "  <thead>\n",
              "    <tr style=\"text-align: right;\">\n",
              "      <th></th>\n",
              "      <th>review_id</th>\n",
              "      <th>business_id</th>\n",
              "      <th>stars</th>\n",
              "      <th>date</th>\n",
              "      <th>text</th>\n",
              "    </tr>\n",
              "  </thead>\n",
              "  <tbody>\n",
              "    <tr>\n",
              "      <th>0</th>\n",
              "      <td>ucJWCf4EGNFPOT3sdGbKXw</td>\n",
              "      <td>XGTL9OtvS3rHCZAGuyNoew</td>\n",
              "      <td>5.0</td>\n",
              "      <td>2016-12-06 19:49:01</td>\n",
              "      <td>Best coffee in the entire town they have many ...</td>\n",
              "    </tr>\n",
              "    <tr>\n",
              "      <th>1</th>\n",
              "      <td>jXThcxVzWhCoQeq5CWQkHA</td>\n",
              "      <td>Hf32W0LKC5lJZ1U0ADIC-w</td>\n",
              "      <td>5.0</td>\n",
              "      <td>2018-09-16 01:42:55</td>\n",
              "      <td>Great experience and awesome chocolate. This p...</td>\n",
              "    </tr>\n",
              "    <tr>\n",
              "      <th>2</th>\n",
              "      <td>9nzK-JwtlMg-bVNqFJgB9w</td>\n",
              "      <td>p2BkIrOuIsxGqtV0lwOZUw</td>\n",
              "      <td>3.0</td>\n",
              "      <td>2016-05-22 01:22:17</td>\n",
              "      <td>I don't know what happened....\\n\\nWhile they w...</td>\n",
              "    </tr>\n",
              "    <tr>\n",
              "      <th>3</th>\n",
              "      <td>l3KcXEz5YPMbU5bbWbEmqg</td>\n",
              "      <td>PPIqBapOuuBQtrCQ63ZJLw</td>\n",
              "      <td>5.0</td>\n",
              "      <td>2017-11-09 17:42:23</td>\n",
              "      <td>The food is very good.  Had the chicken bbq, w...</td>\n",
              "    </tr>\n",
              "    <tr>\n",
              "      <th>4</th>\n",
              "      <td>ecFdaFR6EgPWxCozlhV5ag</td>\n",
              "      <td>iIJkKsHcql8rjhPluacs-A</td>\n",
              "      <td>5.0</td>\n",
              "      <td>2018-02-04 01:25:42</td>\n",
              "      <td>My partners favorite  sandwich place. He final...</td>\n",
              "    </tr>\n",
              "    <tr>\n",
              "      <th>5</th>\n",
              "      <td>6Sfmgu5jA7qIlXHGyxu49g</td>\n",
              "      <td>UU1VB0-TdLLQzR0_DGLQ1g</td>\n",
              "      <td>3.0</td>\n",
              "      <td>2016-08-15 23:39:39</td>\n",
              "      <td>Mondays is half price day, which is reason eno...</td>\n",
              "    </tr>\n",
              "    <tr>\n",
              "      <th>6</th>\n",
              "      <td>FLx1p18nO1AsTvIx2lX61w</td>\n",
              "      <td>T5niihad41oRCFvgodYqtQ</td>\n",
              "      <td>5.0</td>\n",
              "      <td>2017-03-09 02:42:46</td>\n",
              "      <td>I recently ordered a birthday cake from Rosie'...</td>\n",
              "    </tr>\n",
              "    <tr>\n",
              "      <th>7</th>\n",
              "      <td>sqXh8UXuBjLSslthBJY10g</td>\n",
              "      <td>5co-B0RqAHFBNOoKOTeHyQ</td>\n",
              "      <td>5.0</td>\n",
              "      <td>2015-10-22 12:58:43</td>\n",
              "      <td>The best!  Grew up on the South Shore and neve...</td>\n",
              "    </tr>\n",
              "    <tr>\n",
              "      <th>8</th>\n",
              "      <td>Kz2ZpzvykfXYTkS3Hrf4xg</td>\n",
              "      <td>08M1VgrSf__E1QjY0gF1SQ</td>\n",
              "      <td>1.0</td>\n",
              "      <td>2014-04-28 02:25:39</td>\n",
              "      <td>I came here after seeing the high yelp reviews...</td>\n",
              "    </tr>\n",
              "    <tr>\n",
              "      <th>9</th>\n",
              "      <td>id52jmQzE53UMVLwjRkq5A</td>\n",
              "      <td>SqxZZ3GY-vKQnWj1PIserw</td>\n",
              "      <td>3.0</td>\n",
              "      <td>2015-12-29 00:45:38</td>\n",
              "      <td>I'm looking to move to the neighbourhood so I'...</td>\n",
              "    </tr>\n",
              "  </tbody>\n",
              "</table>\n",
              "</div>"
            ],
            "text/plain": [
              "                review_id  ...                                               text\n",
              "0  ucJWCf4EGNFPOT3sdGbKXw  ...  Best coffee in the entire town they have many ...\n",
              "1  jXThcxVzWhCoQeq5CWQkHA  ...  Great experience and awesome chocolate. This p...\n",
              "2  9nzK-JwtlMg-bVNqFJgB9w  ...  I don't know what happened....\\n\\nWhile they w...\n",
              "3  l3KcXEz5YPMbU5bbWbEmqg  ...  The food is very good.  Had the chicken bbq, w...\n",
              "4  ecFdaFR6EgPWxCozlhV5ag  ...  My partners favorite  sandwich place. He final...\n",
              "5  6Sfmgu5jA7qIlXHGyxu49g  ...  Mondays is half price day, which is reason eno...\n",
              "6  FLx1p18nO1AsTvIx2lX61w  ...  I recently ordered a birthday cake from Rosie'...\n",
              "7  sqXh8UXuBjLSslthBJY10g  ...  The best!  Grew up on the South Shore and neve...\n",
              "8  Kz2ZpzvykfXYTkS3Hrf4xg  ...  I came here after seeing the high yelp reviews...\n",
              "9  id52jmQzE53UMVLwjRkq5A  ...  I'm looking to move to the neighbourhood so I'...\n",
              "\n",
              "[10 rows x 5 columns]"
            ]
          },
          "metadata": {
            "tags": []
          },
          "execution_count": 55
        }
      ]
    },
    {
      "cell_type": "code",
      "metadata": {
        "colab": {
          "base_uri": "https://localhost:8080/"
        },
        "id": "Rea8DqBQmYi0",
        "outputId": "7a43f63c-3d52-42ff-93c8-5993fb2bc974"
      },
      "source": [
        "review_df.business_id.value_counts().head(20)"
      ],
      "execution_count": null,
      "outputs": [
        {
          "output_type": "execute_result",
          "data": {
            "text/plain": [
              "bZiIIUcpgxh8mpKMDhdqbA    1085\n",
              "H_RM2u1WWGU1HkKZrYq2Ow     802\n",
              "jREzLrIEkc4jQKLfYMJ0gg     549\n",
              "oz882XuZCxajKo64Opgq_Q     497\n",
              "v1UzkU8lEWdjxq8byWFOKg     468\n",
              "Un6u2cECyV4nZb_HGZ-uTA     398\n",
              "TA1KUSCu8GkWP9w0rmElxw     388\n",
              "72PQGMhrEcIuWH-S44TprA     380\n",
              "YZs1gNSh_sN8JmN_nrpxeA     362\n",
              "4sfF1paqVfXvzAIdzs6MQg     341\n",
              "S9NvWyHUPsuYK7ObMV43pA     334\n",
              "XNrAtQFU4vl9NA8GTlNonA     330\n",
              "KK-6rXbIo9B4-b_P5WO5Qg     327\n",
              "pCNH6bRbyAR7vhaIKoFCxQ     321\n",
              "VFvCFOYtyK9ae4Skxvf3vA     292\n",
              "-_GnwXmzC3DXsHR9nyaC2g     286\n",
              "oug5bLTWP_YTtj1C3_X6Xw     285\n",
              "3cLBtLFiH8IRdlEy9S8RiQ     272\n",
              "vecuat0jOia-CJveW3ngDw     267\n",
              "6fF-nAA2AWTPYF2vlOzqtg     266\n",
              "Name: business_id, dtype: int64"
            ]
          },
          "metadata": {
            "tags": []
          },
          "execution_count": 34
        }
      ]
    },
    {
      "cell_type": "code",
      "metadata": {
        "id": "4XDkISFWxxXx"
      },
      "source": [
        "tips_df = pd.read_json('/content/drive/MyDrive/550proj/yelp_academic_dataset_tip.json', lines = True)"
      ],
      "execution_count": null,
      "outputs": []
    },
    {
      "cell_type": "code",
      "metadata": {
        "id": "BZgMoIi9yAu0"
      },
      "source": [
        "simpler = tips_df[tips_df.business_id.isin(res_dict)][['business_id','text','date','compliment_count']]"
      ],
      "execution_count": null,
      "outputs": []
    },
    {
      "cell_type": "code",
      "metadata": {
        "id": "AM8MR-4wzVDJ"
      },
      "source": [
        "simpler.dropna(inplace = True)"
      ],
      "execution_count": null,
      "outputs": []
    },
    {
      "cell_type": "code",
      "metadata": {
        "id": "LgyLwJPozX5F"
      },
      "source": [
        "simpler.reset_index(inplace = True,drop = True)"
      ],
      "execution_count": null,
      "outputs": []
    },
    {
      "cell_type": "code",
      "metadata": {
        "id": "Psz1gDgz0BkI"
      },
      "source": [
        "simpler.reset_index(inplace = True)"
      ],
      "execution_count": null,
      "outputs": []
    },
    {
      "cell_type": "code",
      "metadata": {
        "id": "0ZTrpAVN0cV4",
        "colab": {
          "base_uri": "https://localhost:8080/",
          "height": 419
        },
        "outputId": "d0de9a7d-5033-478d-91f7-d127e56f8333"
      },
      "source": [
        "simpler"
      ],
      "execution_count": null,
      "outputs": [
        {
          "output_type": "execute_result",
          "data": {
            "text/html": [
              "<div>\n",
              "<style scoped>\n",
              "    .dataframe tbody tr th:only-of-type {\n",
              "        vertical-align: middle;\n",
              "    }\n",
              "\n",
              "    .dataframe tbody tr th {\n",
              "        vertical-align: top;\n",
              "    }\n",
              "\n",
              "    .dataframe thead th {\n",
              "        text-align: right;\n",
              "    }\n",
              "</style>\n",
              "<table border=\"1\" class=\"dataframe\">\n",
              "  <thead>\n",
              "    <tr style=\"text-align: right;\">\n",
              "      <th></th>\n",
              "      <th>index</th>\n",
              "      <th>business_id</th>\n",
              "      <th>text</th>\n",
              "      <th>date</th>\n",
              "      <th>compliment_count</th>\n",
              "    </tr>\n",
              "  </thead>\n",
              "  <tbody>\n",
              "    <tr>\n",
              "      <th>0</th>\n",
              "      <td>0</td>\n",
              "      <td>ENwBByjpoa5Gg7tKgxqwLg</td>\n",
              "      <td>Carne asada chips...</td>\n",
              "      <td>2011-07-22 19:07:35</td>\n",
              "      <td>0</td>\n",
              "    </tr>\n",
              "    <tr>\n",
              "      <th>1</th>\n",
              "      <td>1</td>\n",
              "      <td>XWFjKtRGZ9khRGtGg2ZvaA</td>\n",
              "      <td>1/2-price bowling &amp; the \"Very\" Old Fashion are...</td>\n",
              "      <td>2017-07-11 23:07:16</td>\n",
              "      <td>0</td>\n",
              "    </tr>\n",
              "    <tr>\n",
              "      <th>2</th>\n",
              "      <td>2</td>\n",
              "      <td>oQyf1788YWsiDLupGva6sw</td>\n",
              "      <td>Cold cuts are the best</td>\n",
              "      <td>2015-06-09 14:35:57</td>\n",
              "      <td>0</td>\n",
              "    </tr>\n",
              "    <tr>\n",
              "      <th>3</th>\n",
              "      <td>3</td>\n",
              "      <td>OQ2oHkcWA8KNC1Lsvj1SBA</td>\n",
              "      <td>Water Ave coffee served here--&amp; @ L Jeans!</td>\n",
              "      <td>2018-03-22 15:28:09</td>\n",
              "      <td>0</td>\n",
              "    </tr>\n",
              "    <tr>\n",
              "      <th>4</th>\n",
              "      <td>4</td>\n",
              "      <td>2fkTxtF59cYdktacQ6-axg</td>\n",
              "      <td>Good food, nicely priced and great service. Fr...</td>\n",
              "      <td>2013-02-04 06:49:01</td>\n",
              "      <td>0</td>\n",
              "    </tr>\n",
              "    <tr>\n",
              "      <th>...</th>\n",
              "      <td>...</td>\n",
              "      <td>...</td>\n",
              "      <td>...</td>\n",
              "      <td>...</td>\n",
              "      <td>...</td>\n",
              "    </tr>\n",
              "    <tr>\n",
              "      <th>714307</th>\n",
              "      <td>714307</td>\n",
              "      <td>OHIH7XaxoUU8j4F9ZfaPaA</td>\n",
              "      <td>Bland af, dog shit chicken sandwich's</td>\n",
              "      <td>2019-08-21 19:07:14</td>\n",
              "      <td>0</td>\n",
              "    </tr>\n",
              "    <tr>\n",
              "      <th>714308</th>\n",
              "      <td>714308</td>\n",
              "      <td>_M-2ANKj4meexwp7VOqJcg</td>\n",
              "      <td>Overwhelming odor of cigarettes. Only staff me...</td>\n",
              "      <td>2019-10-03 14:55:15</td>\n",
              "      <td>0</td>\n",
              "    </tr>\n",
              "    <tr>\n",
              "      <th>714309</th>\n",
              "      <td>714309</td>\n",
              "      <td>KRNrssbpE1AKo-48BIpdLw</td>\n",
              "      <td>Excellent Chinese food and sushi!</td>\n",
              "      <td>2019-10-13 02:55:32</td>\n",
              "      <td>0</td>\n",
              "    </tr>\n",
              "    <tr>\n",
              "      <th>714310</th>\n",
              "      <td>714310</td>\n",
              "      <td>C2kDo2CFGP_0073dgMmZNw</td>\n",
              "      <td>Love these guys! My go to place</td>\n",
              "      <td>2015-07-18 17:21:40</td>\n",
              "      <td>0</td>\n",
              "    </tr>\n",
              "    <tr>\n",
              "      <th>714311</th>\n",
              "      <td>714311</td>\n",
              "      <td>4CxF8c3MB7VAdY8zFb2cZQ</td>\n",
              "      <td>Overrated.</td>\n",
              "      <td>2020-07-23 04:02:10</td>\n",
              "      <td>0</td>\n",
              "    </tr>\n",
              "  </tbody>\n",
              "</table>\n",
              "<p>714312 rows × 5 columns</p>\n",
              "</div>"
            ],
            "text/plain": [
              "         index             business_id  ...                date compliment_count\n",
              "0            0  ENwBByjpoa5Gg7tKgxqwLg  ... 2011-07-22 19:07:35                0\n",
              "1            1  XWFjKtRGZ9khRGtGg2ZvaA  ... 2017-07-11 23:07:16                0\n",
              "2            2  oQyf1788YWsiDLupGva6sw  ... 2015-06-09 14:35:57                0\n",
              "3            3  OQ2oHkcWA8KNC1Lsvj1SBA  ... 2018-03-22 15:28:09                0\n",
              "4            4  2fkTxtF59cYdktacQ6-axg  ... 2013-02-04 06:49:01                0\n",
              "...        ...                     ...  ...                 ...              ...\n",
              "714307  714307  OHIH7XaxoUU8j4F9ZfaPaA  ... 2019-08-21 19:07:14                0\n",
              "714308  714308  _M-2ANKj4meexwp7VOqJcg  ... 2019-10-03 14:55:15                0\n",
              "714309  714309  KRNrssbpE1AKo-48BIpdLw  ... 2019-10-13 02:55:32                0\n",
              "714310  714310  C2kDo2CFGP_0073dgMmZNw  ... 2015-07-18 17:21:40                0\n",
              "714311  714311  4CxF8c3MB7VAdY8zFb2cZQ  ... 2020-07-23 04:02:10                0\n",
              "\n",
              "[714312 rows x 5 columns]"
            ]
          },
          "metadata": {
            "tags": []
          },
          "execution_count": 83
        }
      ]
    },
    {
      "cell_type": "code",
      "metadata": {
        "id": "-nM8fdbqyqrI"
      },
      "source": [
        "simpler.to_json('/content/drive/MyDrive/550proj/tips.json', orient = 'records', lines = True)"
      ],
      "execution_count": null,
      "outputs": []
    },
    {
      "cell_type": "code",
      "metadata": {
        "colab": {
          "base_uri": "https://localhost:8080/",
          "height": 359
        },
        "id": "YT8JfJUN08aW",
        "outputId": "b270dcb4-7f8b-4cde-fc05-0ed1cd4ece31"
      },
      "source": [
        "covid_df = pd.read_csv('/content/drive/MyDrive/550proj/us-counties-recent.csv')\n",
        "covid_df.head(10)"
      ],
      "execution_count": null,
      "outputs": [
        {
          "output_type": "execute_result",
          "data": {
            "text/html": [
              "<div>\n",
              "<style scoped>\n",
              "    .dataframe tbody tr th:only-of-type {\n",
              "        vertical-align: middle;\n",
              "    }\n",
              "\n",
              "    .dataframe tbody tr th {\n",
              "        vertical-align: top;\n",
              "    }\n",
              "\n",
              "    .dataframe thead th {\n",
              "        text-align: right;\n",
              "    }\n",
              "</style>\n",
              "<table border=\"1\" class=\"dataframe\">\n",
              "  <thead>\n",
              "    <tr style=\"text-align: right;\">\n",
              "      <th></th>\n",
              "      <th>date</th>\n",
              "      <th>county</th>\n",
              "      <th>state</th>\n",
              "      <th>fips</th>\n",
              "      <th>cases</th>\n",
              "      <th>deaths</th>\n",
              "    </tr>\n",
              "  </thead>\n",
              "  <tbody>\n",
              "    <tr>\n",
              "      <th>0</th>\n",
              "      <td>2021-03-08</td>\n",
              "      <td>Autauga</td>\n",
              "      <td>Alabama</td>\n",
              "      <td>1001.0</td>\n",
              "      <td>6364</td>\n",
              "      <td>92.0</td>\n",
              "    </tr>\n",
              "    <tr>\n",
              "      <th>1</th>\n",
              "      <td>2021-03-08</td>\n",
              "      <td>Baldwin</td>\n",
              "      <td>Alabama</td>\n",
              "      <td>1003.0</td>\n",
              "      <td>19942</td>\n",
              "      <td>289.0</td>\n",
              "    </tr>\n",
              "    <tr>\n",
              "      <th>2</th>\n",
              "      <td>2021-03-08</td>\n",
              "      <td>Barbour</td>\n",
              "      <td>Alabama</td>\n",
              "      <td>1005.0</td>\n",
              "      <td>2143</td>\n",
              "      <td>51.0</td>\n",
              "    </tr>\n",
              "    <tr>\n",
              "      <th>3</th>\n",
              "      <td>2021-03-08</td>\n",
              "      <td>Bibb</td>\n",
              "      <td>Alabama</td>\n",
              "      <td>1007.0</td>\n",
              "      <td>2464</td>\n",
              "      <td>58.0</td>\n",
              "    </tr>\n",
              "    <tr>\n",
              "      <th>4</th>\n",
              "      <td>2021-03-08</td>\n",
              "      <td>Blount</td>\n",
              "      <td>Alabama</td>\n",
              "      <td>1009.0</td>\n",
              "      <td>6256</td>\n",
              "      <td>128.0</td>\n",
              "    </tr>\n",
              "    <tr>\n",
              "      <th>5</th>\n",
              "      <td>2021-03-08</td>\n",
              "      <td>Bullock</td>\n",
              "      <td>Alabama</td>\n",
              "      <td>1011.0</td>\n",
              "      <td>1177</td>\n",
              "      <td>36.0</td>\n",
              "    </tr>\n",
              "    <tr>\n",
              "      <th>6</th>\n",
              "      <td>2021-03-08</td>\n",
              "      <td>Butler</td>\n",
              "      <td>Alabama</td>\n",
              "      <td>1013.0</td>\n",
              "      <td>2017</td>\n",
              "      <td>66.0</td>\n",
              "    </tr>\n",
              "    <tr>\n",
              "      <th>7</th>\n",
              "      <td>2021-03-08</td>\n",
              "      <td>Calhoun</td>\n",
              "      <td>Alabama</td>\n",
              "      <td>1015.0</td>\n",
              "      <td>13968</td>\n",
              "      <td>296.0</td>\n",
              "    </tr>\n",
              "    <tr>\n",
              "      <th>8</th>\n",
              "      <td>2021-03-08</td>\n",
              "      <td>Chambers</td>\n",
              "      <td>Alabama</td>\n",
              "      <td>1017.0</td>\n",
              "      <td>3434</td>\n",
              "      <td>111.0</td>\n",
              "    </tr>\n",
              "    <tr>\n",
              "      <th>9</th>\n",
              "      <td>2021-03-08</td>\n",
              "      <td>Cherokee</td>\n",
              "      <td>Alabama</td>\n",
              "      <td>1019.0</td>\n",
              "      <td>1783</td>\n",
              "      <td>40.0</td>\n",
              "    </tr>\n",
              "  </tbody>\n",
              "</table>\n",
              "</div>"
            ],
            "text/plain": [
              "         date    county    state    fips  cases  deaths\n",
              "0  2021-03-08   Autauga  Alabama  1001.0   6364    92.0\n",
              "1  2021-03-08   Baldwin  Alabama  1003.0  19942   289.0\n",
              "2  2021-03-08   Barbour  Alabama  1005.0   2143    51.0\n",
              "3  2021-03-08      Bibb  Alabama  1007.0   2464    58.0\n",
              "4  2021-03-08    Blount  Alabama  1009.0   6256   128.0\n",
              "5  2021-03-08   Bullock  Alabama  1011.0   1177    36.0\n",
              "6  2021-03-08    Butler  Alabama  1013.0   2017    66.0\n",
              "7  2021-03-08   Calhoun  Alabama  1015.0  13968   296.0\n",
              "8  2021-03-08  Chambers  Alabama  1017.0   3434   111.0\n",
              "9  2021-03-08  Cherokee  Alabama  1019.0   1783    40.0"
            ]
          },
          "metadata": {
            "tags": []
          },
          "execution_count": 5
        }
      ]
    },
    {
      "cell_type": "code",
      "metadata": {
        "colab": {
          "base_uri": "https://localhost:8080/"
        },
        "id": "oO4c6YAm19cM",
        "outputId": "f6a35c82-a1fc-4114-81cf-762d0847e7fa"
      },
      "source": [
        "covid_df.shape"
      ],
      "execution_count": null,
      "outputs": [
        {
          "output_type": "execute_result",
          "data": {
            "text/plain": [
              "(94200, 6)"
            ]
          },
          "metadata": {
            "tags": []
          },
          "execution_count": 9
        }
      ]
    },
    {
      "cell_type": "code",
      "metadata": {
        "id": "l9GjCplU1-9k"
      },
      "source": [
        "covid_df.dropna(inplace = True)"
      ],
      "execution_count": null,
      "outputs": []
    },
    {
      "cell_type": "code",
      "metadata": {
        "id": "8XSmPzfR1tym"
      },
      "source": [
        "covid_df.to_json('/content/drive/MyDrive/550proj/covid.json', orient = 'records', lines = True)"
      ],
      "execution_count": null,
      "outputs": []
    },
    {
      "cell_type": "code",
      "metadata": {
        "id": "-AsPwQOK15Ly"
      },
      "source": [
        "zipfip = jsonlines.open('/content/drive/MyDrive/550proj/zip2fips.json')"
      ],
      "execution_count": null,
      "outputs": []
    },
    {
      "cell_type": "code",
      "metadata": {
        "id": "cg8kJlUl2QMI"
      },
      "source": [
        "for line in zipfip:\n",
        "   pass\n",
        "line"
      ],
      "execution_count": null,
      "outputs": []
    },
    {
      "cell_type": "code",
      "metadata": {
        "colab": {
          "base_uri": "https://localhost:8080/",
          "height": 35
        },
        "id": "XPz8bAsr4qdQ",
        "outputId": "105de5cd-c460-4e66-8d61-d9f7ca6858c6"
      },
      "source": [
        "line['42371']"
      ],
      "execution_count": null,
      "outputs": [
        {
          "output_type": "execute_result",
          "data": {
            "application/vnd.google.colaboratory.intrinsic+json": {
              "type": "string"
            },
            "text/plain": [
              "'21149'"
            ]
          },
          "metadata": {
            "tags": []
          },
          "execution_count": 27
        }
      ]
    },
    {
      "cell_type": "code",
      "metadata": {
        "id": "Te-XE9XA3aa1"
      },
      "source": [
        "zip_dict = {'zipcode':[], 'fips':[]}\n",
        "for item in line.items():\n",
        "  zip_dict['zipcode'].append(int(item[0]))\n",
        "  zip_dict['fips'].append(int(item[1]))\n",
        "  \n",
        "\n",
        "\n"
      ],
      "execution_count": null,
      "outputs": []
    },
    {
      "cell_type": "code",
      "metadata": {
        "colab": {
          "base_uri": "https://localhost:8080/",
          "height": 419
        },
        "id": "-e53QrAI5bmd",
        "outputId": "208f965a-332c-4a5f-ce17-645793a73d16"
      },
      "source": [
        "zipfip_df = pd.DataFrame(zip_dict)\n",
        "zipfip_df"
      ],
      "execution_count": null,
      "outputs": [
        {
          "output_type": "execute_result",
          "data": {
            "text/html": [
              "<div>\n",
              "<style scoped>\n",
              "    .dataframe tbody tr th:only-of-type {\n",
              "        vertical-align: middle;\n",
              "    }\n",
              "\n",
              "    .dataframe tbody tr th {\n",
              "        vertical-align: top;\n",
              "    }\n",
              "\n",
              "    .dataframe thead th {\n",
              "        text-align: right;\n",
              "    }\n",
              "</style>\n",
              "<table border=\"1\" class=\"dataframe\">\n",
              "  <thead>\n",
              "    <tr style=\"text-align: right;\">\n",
              "      <th></th>\n",
              "      <th>zipcode</th>\n",
              "      <th>fips</th>\n",
              "    </tr>\n",
              "  </thead>\n",
              "  <tbody>\n",
              "    <tr>\n",
              "      <th>0</th>\n",
              "      <td>70175</td>\n",
              "      <td>22071</td>\n",
              "    </tr>\n",
              "    <tr>\n",
              "      <th>1</th>\n",
              "      <td>11542</td>\n",
              "      <td>36059</td>\n",
              "    </tr>\n",
              "    <tr>\n",
              "      <th>2</th>\n",
              "      <td>11547</td>\n",
              "      <td>36059</td>\n",
              "    </tr>\n",
              "    <tr>\n",
              "      <th>3</th>\n",
              "      <td>11545</td>\n",
              "      <td>36059</td>\n",
              "    </tr>\n",
              "    <tr>\n",
              "      <th>4</th>\n",
              "      <td>11548</td>\n",
              "      <td>36059</td>\n",
              "    </tr>\n",
              "    <tr>\n",
              "      <th>...</th>\n",
              "      <td>...</td>\n",
              "      <td>...</td>\n",
              "    </tr>\n",
              "    <tr>\n",
              "      <th>41168</th>\n",
              "      <td>38342</td>\n",
              "      <td>47017</td>\n",
              "    </tr>\n",
              "    <tr>\n",
              "      <th>41169</th>\n",
              "      <td>38345</td>\n",
              "      <td>47077</td>\n",
              "    </tr>\n",
              "    <tr>\n",
              "      <th>41170</th>\n",
              "      <td>38344</td>\n",
              "      <td>47017</td>\n",
              "    </tr>\n",
              "    <tr>\n",
              "      <th>41171</th>\n",
              "      <td>38347</td>\n",
              "      <td>47023</td>\n",
              "    </tr>\n",
              "    <tr>\n",
              "      <th>41172</th>\n",
              "      <td>38346</td>\n",
              "      <td>47053</td>\n",
              "    </tr>\n",
              "  </tbody>\n",
              "</table>\n",
              "<p>41173 rows × 2 columns</p>\n",
              "</div>"
            ],
            "text/plain": [
              "       zipcode   fips\n",
              "0        70175  22071\n",
              "1        11542  36059\n",
              "2        11547  36059\n",
              "3        11545  36059\n",
              "4        11548  36059\n",
              "...        ...    ...\n",
              "41168    38342  47017\n",
              "41169    38345  47077\n",
              "41170    38344  47017\n",
              "41171    38347  47023\n",
              "41172    38346  47053\n",
              "\n",
              "[41173 rows x 2 columns]"
            ]
          },
          "metadata": {
            "tags": []
          },
          "execution_count": 31
        }
      ]
    },
    {
      "cell_type": "code",
      "metadata": {
        "id": "goysE9Gt5wo3"
      },
      "source": [
        "zipfip_df.to_json('/content/drive/MyDrive/550proj/location.json', orient = 'records', lines = True)"
      ],
      "execution_count": null,
      "outputs": []
    },
    {
      "cell_type": "code",
      "metadata": {
        "id": "zVQqQcQ_7jxT"
      },
      "source": [
        "allrest_df = pd.read_json('/content/drive/MyDrive/550proj/rest.json', lines = True)\n",
        "allrev_df = pd.read_json('/content/drive/MyDrive/550proj/reviews.json', lines = True)\n",
        "alltips_df = pd.read_json('/content/drive/MyDrive/550proj/tips.json', lines = True)"
      ],
      "execution_count": null,
      "outputs": []
    },
    {
      "cell_type": "code",
      "metadata": {
        "colab": {
          "base_uri": "https://localhost:8080/",
          "height": 589
        },
        "id": "r6SgflLp7v6B",
        "outputId": "223d2b44-ab0b-4574-815f-b6ca92cfca2a"
      },
      "source": [
        "allrest_df"
      ],
      "execution_count": null,
      "outputs": [
        {
          "output_type": "execute_result",
          "data": {
            "text/html": [
              "<div>\n",
              "<style scoped>\n",
              "    .dataframe tbody tr th:only-of-type {\n",
              "        vertical-align: middle;\n",
              "    }\n",
              "\n",
              "    .dataframe tbody tr th {\n",
              "        vertical-align: top;\n",
              "    }\n",
              "\n",
              "    .dataframe thead th {\n",
              "        text-align: right;\n",
              "    }\n",
              "</style>\n",
              "<table border=\"1\" class=\"dataframe\">\n",
              "  <thead>\n",
              "    <tr style=\"text-align: right;\">\n",
              "      <th></th>\n",
              "      <th>business_id</th>\n",
              "      <th>name</th>\n",
              "      <th>address</th>\n",
              "      <th>city</th>\n",
              "      <th>state</th>\n",
              "      <th>postal_code</th>\n",
              "      <th>stars</th>\n",
              "      <th>review_count</th>\n",
              "      <th>categories</th>\n",
              "      <th>hours</th>\n",
              "    </tr>\n",
              "  </thead>\n",
              "  <tbody>\n",
              "    <tr>\n",
              "      <th>0</th>\n",
              "      <td>6iYb2HFDywm3zjuRg0shjw</td>\n",
              "      <td>Oskar Blues Taproom</td>\n",
              "      <td>921 Pearl St</td>\n",
              "      <td>Boulder</td>\n",
              "      <td>CO</td>\n",
              "      <td>80302</td>\n",
              "      <td>4.0</td>\n",
              "      <td>86</td>\n",
              "      <td>Gastropubs, Food, Beer Gardens, Restaurants, B...</td>\n",
              "      <td>{'Monday': '11:0-23:0', 'Tuesday': '11:0-23:0'...</td>\n",
              "    </tr>\n",
              "    <tr>\n",
              "      <th>1</th>\n",
              "      <td>tCbdrRPZA0oiIYSmHG3J0w</td>\n",
              "      <td>Flying Elephants at PDX</td>\n",
              "      <td>7000 NE Airport Way</td>\n",
              "      <td>Portland</td>\n",
              "      <td>OR</td>\n",
              "      <td>97218</td>\n",
              "      <td>4.0</td>\n",
              "      <td>126</td>\n",
              "      <td>Salad, Soup, Sandwiches, Delis, Restaurants, C...</td>\n",
              "      <td>{'Monday': '5:0-18:0', 'Tuesday': '5:0-17:0', ...</td>\n",
              "    </tr>\n",
              "    <tr>\n",
              "      <th>2</th>\n",
              "      <td>jFYIsSb7r1QeESVUnXPHBw</td>\n",
              "      <td>Boxwood Biscuit</td>\n",
              "      <td>740 S High St</td>\n",
              "      <td>Columbus</td>\n",
              "      <td>OH</td>\n",
              "      <td>43206</td>\n",
              "      <td>4.5</td>\n",
              "      <td>11</td>\n",
              "      <td>Breakfast &amp; Brunch, Restaurants</td>\n",
              "      <td>{'Saturday': '8:0-14:0', 'Sunday': '8:0-14:0'}</td>\n",
              "    </tr>\n",
              "    <tr>\n",
              "      <th>3</th>\n",
              "      <td>HPA_qyMEddpAEtFof02ixg</td>\n",
              "      <td>Mr G's Pizza &amp; Subs</td>\n",
              "      <td>474 Lowell St</td>\n",
              "      <td>Peabody</td>\n",
              "      <td>MA</td>\n",
              "      <td>01960</td>\n",
              "      <td>4.0</td>\n",
              "      <td>39</td>\n",
              "      <td>Food, Pizza, Restaurants</td>\n",
              "      <td>{'Monday': '11:0-21:0', 'Tuesday': '11:0-21:0'...</td>\n",
              "    </tr>\n",
              "    <tr>\n",
              "      <th>4</th>\n",
              "      <td>ufCxltuh56FF4-ZFZ6cVhg</td>\n",
              "      <td>Sister Honey's</td>\n",
              "      <td>247 E Michigan St</td>\n",
              "      <td>Orlando</td>\n",
              "      <td>FL</td>\n",
              "      <td>32806</td>\n",
              "      <td>4.5</td>\n",
              "      <td>135</td>\n",
              "      <td>Restaurants, American (New), Bakeries, Dessert...</td>\n",
              "      <td>{'Tuesday': '11:0-18:0', 'Wednesday': '11:0-18...</td>\n",
              "    </tr>\n",
              "    <tr>\n",
              "      <th>...</th>\n",
              "      <td>...</td>\n",
              "      <td>...</td>\n",
              "      <td>...</td>\n",
              "      <td>...</td>\n",
              "      <td>...</td>\n",
              "      <td>...</td>\n",
              "      <td>...</td>\n",
              "      <td>...</td>\n",
              "      <td>...</td>\n",
              "      <td>...</td>\n",
              "    </tr>\n",
              "    <tr>\n",
              "      <th>36752</th>\n",
              "      <td>r5Uag1JqYjr2nbxQCVqm8A</td>\n",
              "      <td>Saigon Noodle &amp; Grill</td>\n",
              "      <td>101 N Bumby Ave</td>\n",
              "      <td>Orlando</td>\n",
              "      <td>FL</td>\n",
              "      <td>32803</td>\n",
              "      <td>4.5</td>\n",
              "      <td>437</td>\n",
              "      <td>Restaurants, Noodles, Salad, Vietnamese, Veget...</td>\n",
              "      <td>{'Monday': '0:0-0:0', 'Tuesday': '10:30-21:30'...</td>\n",
              "    </tr>\n",
              "    <tr>\n",
              "      <th>36753</th>\n",
              "      <td>Zl6SUy6x9jqjRu2HbtEO6A</td>\n",
              "      <td>Split Dine and Drink</td>\n",
              "      <td>7335 SW Bridgeport Rd</td>\n",
              "      <td>Tigard</td>\n",
              "      <td>OR</td>\n",
              "      <td>97224</td>\n",
              "      <td>2.0</td>\n",
              "      <td>48</td>\n",
              "      <td>American (Traditional), Desserts, American (Ne...</td>\n",
              "      <td>{'Monday': '11:0-23:0', 'Tuesday': '11:0-23:0'...</td>\n",
              "    </tr>\n",
              "    <tr>\n",
              "      <th>36754</th>\n",
              "      <td>Q78fYV6B6P6GmX07YVgi4g</td>\n",
              "      <td>Maudie’s Hill Country</td>\n",
              "      <td>12506 Shops Pkwy</td>\n",
              "      <td>Bee Cave</td>\n",
              "      <td>TX</td>\n",
              "      <td>78738</td>\n",
              "      <td>3.0</td>\n",
              "      <td>310</td>\n",
              "      <td>Mexican, Bars, Nightlife, Tex-Mex, Restaurants</td>\n",
              "      <td>{'Monday': '0:0-0:0', 'Tuesday': '9:0-21:0', '...</td>\n",
              "    </tr>\n",
              "    <tr>\n",
              "      <th>36755</th>\n",
              "      <td>uXdQkuEtvLAzfc3MsO-sTQ</td>\n",
              "      <td>Mama's Cocina Latina</td>\n",
              "      <td>1958 Piedmont Rd NE</td>\n",
              "      <td>Atlanta</td>\n",
              "      <td>GA</td>\n",
              "      <td>30324</td>\n",
              "      <td>3.0</td>\n",
              "      <td>185</td>\n",
              "      <td>Restaurants, Mexican, Latin American</td>\n",
              "      <td>{'Monday': '0:0-0:0', 'Tuesday': '0:0-0:0', 'W...</td>\n",
              "    </tr>\n",
              "    <tr>\n",
              "      <th>36756</th>\n",
              "      <td>ngmLL5Y5OT-bYHKU0kKrYA</td>\n",
              "      <td>Zora Grille</td>\n",
              "      <td>1370 E Altamonte Dr</td>\n",
              "      <td>Altamonte Springs</td>\n",
              "      <td>FL</td>\n",
              "      <td>32701</td>\n",
              "      <td>4.5</td>\n",
              "      <td>82</td>\n",
              "      <td>Restaurants, Middle Eastern, Mediterranean, Pe...</td>\n",
              "      <td>{'Tuesday': '17:0-21:0', 'Wednesday': '17:0-21...</td>\n",
              "    </tr>\n",
              "  </tbody>\n",
              "</table>\n",
              "<p>36757 rows × 10 columns</p>\n",
              "</div>"
            ],
            "text/plain": [
              "                  business_id  ...                                              hours\n",
              "0      6iYb2HFDywm3zjuRg0shjw  ...  {'Monday': '11:0-23:0', 'Tuesday': '11:0-23:0'...\n",
              "1      tCbdrRPZA0oiIYSmHG3J0w  ...  {'Monday': '5:0-18:0', 'Tuesday': '5:0-17:0', ...\n",
              "2      jFYIsSb7r1QeESVUnXPHBw  ...     {'Saturday': '8:0-14:0', 'Sunday': '8:0-14:0'}\n",
              "3      HPA_qyMEddpAEtFof02ixg  ...  {'Monday': '11:0-21:0', 'Tuesday': '11:0-21:0'...\n",
              "4      ufCxltuh56FF4-ZFZ6cVhg  ...  {'Tuesday': '11:0-18:0', 'Wednesday': '11:0-18...\n",
              "...                       ...  ...                                                ...\n",
              "36752  r5Uag1JqYjr2nbxQCVqm8A  ...  {'Monday': '0:0-0:0', 'Tuesday': '10:30-21:30'...\n",
              "36753  Zl6SUy6x9jqjRu2HbtEO6A  ...  {'Monday': '11:0-23:0', 'Tuesday': '11:0-23:0'...\n",
              "36754  Q78fYV6B6P6GmX07YVgi4g  ...  {'Monday': '0:0-0:0', 'Tuesday': '9:0-21:0', '...\n",
              "36755  uXdQkuEtvLAzfc3MsO-sTQ  ...  {'Monday': '0:0-0:0', 'Tuesday': '0:0-0:0', 'W...\n",
              "36756  ngmLL5Y5OT-bYHKU0kKrYA  ...  {'Tuesday': '17:0-21:0', 'Wednesday': '17:0-21...\n",
              "\n",
              "[36757 rows x 10 columns]"
            ]
          },
          "metadata": {
            "tags": []
          },
          "execution_count": 38
        }
      ]
    },
    {
      "cell_type": "code",
      "metadata": {
        "id": "3rS7RtkQ8Au8"
      },
      "source": [
        "allrest_df[['business_id','state']].groupby('state', as_index = True).count()"
      ],
      "execution_count": null,
      "outputs": []
    },
    {
      "cell_type": "code",
      "metadata": {
        "id": "7cNH23M38Xv1"
      },
      "source": [
        "topfive_state = allrest_df[allrest_df.state.isin(['MA','FL','GA','OR','TX'])]"
      ],
      "execution_count": null,
      "outputs": []
    },
    {
      "cell_type": "code",
      "metadata": {
        "id": "HMAn8GTv8kmH"
      },
      "source": [
        "topfive_state"
      ],
      "execution_count": null,
      "outputs": []
    },
    {
      "cell_type": "code",
      "metadata": {
        "id": "C-j3Ddb28-dt"
      },
      "source": [
        "def best_n(state, n, df):\n",
        "  res = df[df['state'] == state].sort_values(by = 'stars', ascending = False, ignore_index = True).head(n)\n",
        "  return res"
      ],
      "execution_count": null,
      "outputs": []
    },
    {
      "cell_type": "code",
      "metadata": {
        "id": "iuE13bqJ9ydY"
      },
      "source": [
        "state_list = ['MA','FL','GA','OR','TX']"
      ],
      "execution_count": null,
      "outputs": []
    },
    {
      "cell_type": "code",
      "metadata": {
        "id": "lVmMPNIN9kSH"
      },
      "source": [
        "fewer_rest = pd.concat([best_n(state, 1000, allrest_df) for state in state_list])"
      ],
      "execution_count": null,
      "outputs": []
    },
    {
      "cell_type": "code",
      "metadata": {
        "id": "OSgk0hAf-ABb"
      },
      "source": [
        "fewer_rest.reset_index(drop = True, inplace = True)"
      ],
      "execution_count": null,
      "outputs": []
    },
    {
      "cell_type": "code",
      "metadata": {
        "colab": {
          "base_uri": "https://localhost:8080/",
          "height": 589
        },
        "id": "x7gMZFzp-H2A",
        "outputId": "735075b9-18ea-468a-8f6e-d794d5e0edab"
      },
      "source": [
        "fewer_rest"
      ],
      "execution_count": null,
      "outputs": [
        {
          "output_type": "execute_result",
          "data": {
            "text/html": [
              "<div>\n",
              "<style scoped>\n",
              "    .dataframe tbody tr th:only-of-type {\n",
              "        vertical-align: middle;\n",
              "    }\n",
              "\n",
              "    .dataframe tbody tr th {\n",
              "        vertical-align: top;\n",
              "    }\n",
              "\n",
              "    .dataframe thead th {\n",
              "        text-align: right;\n",
              "    }\n",
              "</style>\n",
              "<table border=\"1\" class=\"dataframe\">\n",
              "  <thead>\n",
              "    <tr style=\"text-align: right;\">\n",
              "      <th></th>\n",
              "      <th>business_id</th>\n",
              "      <th>name</th>\n",
              "      <th>address</th>\n",
              "      <th>city</th>\n",
              "      <th>state</th>\n",
              "      <th>postal_code</th>\n",
              "      <th>stars</th>\n",
              "      <th>review_count</th>\n",
              "      <th>categories</th>\n",
              "      <th>hours</th>\n",
              "    </tr>\n",
              "  </thead>\n",
              "  <tbody>\n",
              "    <tr>\n",
              "      <th>0</th>\n",
              "      <td>NfVIsNF81mop3T-FW6zl4g</td>\n",
              "      <td>The Studio Cafe</td>\n",
              "      <td>327 Main St</td>\n",
              "      <td>Woburn</td>\n",
              "      <td>MA</td>\n",
              "      <td>01801</td>\n",
              "      <td>5.0</td>\n",
              "      <td>19</td>\n",
              "      <td>Juice Bars &amp; Smoothies, Coffee &amp; Tea, Bakeries...</td>\n",
              "      <td>{'Monday': '8:0-15:0', 'Tuesday': '8:0-15:0', ...</td>\n",
              "    </tr>\n",
              "    <tr>\n",
              "      <th>1</th>\n",
              "      <td>CJlyEqg6Yiy0B9NbhNG7Vw</td>\n",
              "      <td>Vinal Bakery</td>\n",
              "      <td>222 Somerville Ave</td>\n",
              "      <td>Somerville</td>\n",
              "      <td>MA</td>\n",
              "      <td>02143</td>\n",
              "      <td>5.0</td>\n",
              "      <td>58</td>\n",
              "      <td>Breakfast &amp; Brunch, Cafes, Bakeries, Restauran...</td>\n",
              "      <td>{'Monday': '8:0-13:0', 'Thursday': '8:0-13:0',...</td>\n",
              "    </tr>\n",
              "    <tr>\n",
              "      <th>2</th>\n",
              "      <td>yCZ-Jb0fA3Tsn4SAtVC5Kg</td>\n",
              "      <td>Blue Jay's</td>\n",
              "      <td>423 Sprague St</td>\n",
              "      <td>Dedham</td>\n",
              "      <td>MA</td>\n",
              "      <td>02026</td>\n",
              "      <td>5.0</td>\n",
              "      <td>9</td>\n",
              "      <td>American (New), Coffee &amp; Tea, Restaurants, San...</td>\n",
              "      <td>{'Monday': '6:30-19:0', 'Tuesday': '6:30-19:0'...</td>\n",
              "    </tr>\n",
              "    <tr>\n",
              "      <th>3</th>\n",
              "      <td>X2iVJdDtvnrbxeqiJzLgog</td>\n",
              "      <td>Pace Hot Dogs</td>\n",
              "      <td>56 Colpitts Rd</td>\n",
              "      <td>Weston</td>\n",
              "      <td>MA</td>\n",
              "      <td>02493</td>\n",
              "      <td>5.0</td>\n",
              "      <td>7</td>\n",
              "      <td>Food Trucks, Food, Food Stands, Hot Dogs, Rest...</td>\n",
              "      <td>{'Monday': '11:30-15:0', 'Tuesday': '11:30-15:...</td>\n",
              "    </tr>\n",
              "    <tr>\n",
              "      <th>4</th>\n",
              "      <td>oYtyETagKxYInmoKdkGR7Q</td>\n",
              "      <td>Season to Taste Catering</td>\n",
              "      <td>2447 Massachusetts Ave</td>\n",
              "      <td>Cambridge</td>\n",
              "      <td>MA</td>\n",
              "      <td>02140</td>\n",
              "      <td>5.0</td>\n",
              "      <td>50</td>\n",
              "      <td>Restaurants, Event Planning &amp; Services, Catere...</td>\n",
              "      <td>{'Tuesday': '17:0-21:0', 'Wednesday': '17:0-21...</td>\n",
              "    </tr>\n",
              "    <tr>\n",
              "      <th>...</th>\n",
              "      <td>...</td>\n",
              "      <td>...</td>\n",
              "      <td>...</td>\n",
              "      <td>...</td>\n",
              "      <td>...</td>\n",
              "      <td>...</td>\n",
              "      <td>...</td>\n",
              "      <td>...</td>\n",
              "      <td>...</td>\n",
              "      <td>...</td>\n",
              "    </tr>\n",
              "    <tr>\n",
              "      <th>4995</th>\n",
              "      <td>KIHoGUfCOLhBFQVSAN4QSg</td>\n",
              "      <td>Suerte</td>\n",
              "      <td>1800 E 6th St</td>\n",
              "      <td>Austin</td>\n",
              "      <td>TX</td>\n",
              "      <td>78702</td>\n",
              "      <td>4.5</td>\n",
              "      <td>521</td>\n",
              "      <td>Mexican, Restaurants</td>\n",
              "      <td>{'Monday': '0:0-0:0', 'Tuesday': '16:0-21:30',...</td>\n",
              "    </tr>\n",
              "    <tr>\n",
              "      <th>4996</th>\n",
              "      <td>tBCvtDOgNQfZrTGFZnsKqw</td>\n",
              "      <td>Beerburg Brewing Company</td>\n",
              "      <td>13476 Fitzhugh Rd</td>\n",
              "      <td>Austin</td>\n",
              "      <td>TX</td>\n",
              "      <td>78736</td>\n",
              "      <td>4.5</td>\n",
              "      <td>20</td>\n",
              "      <td>Food, Breweries, Nightlife, Restaurants, Brewp...</td>\n",
              "      <td>{'Monday': '0:0-0:0', 'Wednesday': '12:0-15:0'...</td>\n",
              "    </tr>\n",
              "    <tr>\n",
              "      <th>4997</th>\n",
              "      <td>fZ17X_m2hr1F1hbp3HcZhQ</td>\n",
              "      <td>Live Oak Market</td>\n",
              "      <td>4410 Manchaca Rd</td>\n",
              "      <td>Austin</td>\n",
              "      <td>TX</td>\n",
              "      <td>78745</td>\n",
              "      <td>4.5</td>\n",
              "      <td>205</td>\n",
              "      <td>Shopping Centers, Local Flavor, Coffee &amp; Tea, ...</td>\n",
              "      <td>{'Monday': '7:0-0:0', 'Tuesday': '7:0-0:0', 'W...</td>\n",
              "    </tr>\n",
              "    <tr>\n",
              "      <th>4998</th>\n",
              "      <td>R1PFUBw0lBCpFbsl-dh0lQ</td>\n",
              "      <td>MOCHA - Monterey Oaks Coffee House</td>\n",
              "      <td>4220 Monterey Oaks Blvd</td>\n",
              "      <td>Austin</td>\n",
              "      <td>TX</td>\n",
              "      <td>78749</td>\n",
              "      <td>4.5</td>\n",
              "      <td>18</td>\n",
              "      <td>Internet Cafes, Food, Sandwiches, Coffee &amp; Tea...</td>\n",
              "      <td>{'Monday': '7:30-15:30', 'Tuesday': '7:30-15:3...</td>\n",
              "    </tr>\n",
              "    <tr>\n",
              "      <th>4999</th>\n",
              "      <td>QmGqhWkdued9L98MP-jiPg</td>\n",
              "      <td>Thrive Craft House</td>\n",
              "      <td>519 W 37th St</td>\n",
              "      <td>Austin</td>\n",
              "      <td>TX</td>\n",
              "      <td>78705</td>\n",
              "      <td>4.5</td>\n",
              "      <td>17</td>\n",
              "      <td>Food, Bars, Beer Gardens, American (Traditiona...</td>\n",
              "      <td>{'Monday': '6:30-21:30', 'Tuesday': '6:30-21:3...</td>\n",
              "    </tr>\n",
              "  </tbody>\n",
              "</table>\n",
              "<p>5000 rows × 10 columns</p>\n",
              "</div>"
            ],
            "text/plain": [
              "                 business_id  ...                                              hours\n",
              "0     NfVIsNF81mop3T-FW6zl4g  ...  {'Monday': '8:0-15:0', 'Tuesday': '8:0-15:0', ...\n",
              "1     CJlyEqg6Yiy0B9NbhNG7Vw  ...  {'Monday': '8:0-13:0', 'Thursday': '8:0-13:0',...\n",
              "2     yCZ-Jb0fA3Tsn4SAtVC5Kg  ...  {'Monday': '6:30-19:0', 'Tuesday': '6:30-19:0'...\n",
              "3     X2iVJdDtvnrbxeqiJzLgog  ...  {'Monday': '11:30-15:0', 'Tuesday': '11:30-15:...\n",
              "4     oYtyETagKxYInmoKdkGR7Q  ...  {'Tuesday': '17:0-21:0', 'Wednesday': '17:0-21...\n",
              "...                      ...  ...                                                ...\n",
              "4995  KIHoGUfCOLhBFQVSAN4QSg  ...  {'Monday': '0:0-0:0', 'Tuesday': '16:0-21:30',...\n",
              "4996  tBCvtDOgNQfZrTGFZnsKqw  ...  {'Monday': '0:0-0:0', 'Wednesday': '12:0-15:0'...\n",
              "4997  fZ17X_m2hr1F1hbp3HcZhQ  ...  {'Monday': '7:0-0:0', 'Tuesday': '7:0-0:0', 'W...\n",
              "4998  R1PFUBw0lBCpFbsl-dh0lQ  ...  {'Monday': '7:30-15:30', 'Tuesday': '7:30-15:3...\n",
              "4999  QmGqhWkdued9L98MP-jiPg  ...  {'Monday': '6:30-21:30', 'Tuesday': '6:30-21:3...\n",
              "\n",
              "[5000 rows x 10 columns]"
            ]
          },
          "metadata": {
            "tags": []
          },
          "execution_count": 53
        }
      ]
    },
    {
      "cell_type": "code",
      "metadata": {
        "id": "FBeYk3Ps-cyx"
      },
      "source": [
        "fewer_rev = allrev_df[allrev_df.business_id.isin(fewer_rest.business_id)]\n",
        "fewer_tips = alltips_df[alltips_df.business_id.isin(fewer_rest.business_id)]"
      ],
      "execution_count": null,
      "outputs": []
    },
    {
      "cell_type": "code",
      "metadata": {
        "id": "tZZ-Qajz-jL8"
      },
      "source": [
        "fewer_rev.reset_index(drop = True, inplace = True)"
      ],
      "execution_count": null,
      "outputs": []
    },
    {
      "cell_type": "code",
      "metadata": {
        "id": "Q62Jsyc7--zT"
      },
      "source": [
        "newcolnames= ['tip_id']\n",
        "newcolnames.extend(fewer_tips.columns[1:])\n",
        "fewer_tips.columns = newcolnames\n",
        "fewer_tips.reset_index(drop = True, inplace = True)"
      ],
      "execution_count": null,
      "outputs": []
    },
    {
      "cell_type": "code",
      "metadata": {
        "colab": {
          "base_uri": "https://localhost:8080/",
          "height": 419
        },
        "id": "bpqF30b4--tp",
        "outputId": "7f248d36-eee7-47f3-f18b-1e2b739a702e"
      },
      "source": [
        "fewer_tips.toj"
      ],
      "execution_count": null,
      "outputs": [
        {
          "output_type": "execute_result",
          "data": {
            "text/html": [
              "<div>\n",
              "<style scoped>\n",
              "    .dataframe tbody tr th:only-of-type {\n",
              "        vertical-align: middle;\n",
              "    }\n",
              "\n",
              "    .dataframe tbody tr th {\n",
              "        vertical-align: top;\n",
              "    }\n",
              "\n",
              "    .dataframe thead th {\n",
              "        text-align: right;\n",
              "    }\n",
              "</style>\n",
              "<table border=\"1\" class=\"dataframe\">\n",
              "  <thead>\n",
              "    <tr style=\"text-align: right;\">\n",
              "      <th></th>\n",
              "      <th>tip_id</th>\n",
              "      <th>business_id</th>\n",
              "      <th>text</th>\n",
              "      <th>date</th>\n",
              "      <th>compliment_count</th>\n",
              "    </tr>\n",
              "  </thead>\n",
              "  <tbody>\n",
              "    <tr>\n",
              "      <th>59922</th>\n",
              "      <td>491444</td>\n",
              "      <td>vQ0ihvqI0Xpz8TxBIKK_qg</td>\n",
              "      <td>Best donuts in town. Staff is super friendly.</td>\n",
              "      <td>2021-01-28 14:11:48</td>\n",
              "      <td>0</td>\n",
              "    </tr>\n",
              "    <tr>\n",
              "      <th>86756</th>\n",
              "      <td>673716</td>\n",
              "      <td>4YrYLgICcDzoTtmdg-YjYg</td>\n",
              "      <td>Fantastic burritos and we come at least 2 time...</td>\n",
              "      <td>2021-01-28 03:55:00</td>\n",
              "      <td>0</td>\n",
              "    </tr>\n",
              "    <tr>\n",
              "      <th>58713</th>\n",
              "      <td>484911</td>\n",
              "      <td>8sEbM_ACHUbBsZ-TRZFXWA</td>\n",
              "      <td>Still love this pizza! Hooked on the cheesecake</td>\n",
              "      <td>2021-01-28 03:44:40</td>\n",
              "      <td>0</td>\n",
              "    </tr>\n",
              "    <tr>\n",
              "      <th>50796</th>\n",
              "      <td>418407</td>\n",
              "      <td>18KiQCczOWOfJSlbbb7_Fw</td>\n",
              "      <td>If you want good food and drink come here for ...</td>\n",
              "      <td>2021-01-28 01:31:52</td>\n",
              "      <td>0</td>\n",
              "    </tr>\n",
              "    <tr>\n",
              "      <th>73186</th>\n",
              "      <td>578788</td>\n",
              "      <td>sRJ79RGt7a7V5ejrHtCA1A</td>\n",
              "      <td>The best ever. Everything is the best. Eat eve...</td>\n",
              "      <td>2021-01-27 23:22:04</td>\n",
              "      <td>0</td>\n",
              "    </tr>\n",
              "    <tr>\n",
              "      <th>...</th>\n",
              "      <td>...</td>\n",
              "      <td>...</td>\n",
              "      <td>...</td>\n",
              "      <td>...</td>\n",
              "      <td>...</td>\n",
              "    </tr>\n",
              "    <tr>\n",
              "      <th>171</th>\n",
              "      <td>1511</td>\n",
              "      <td>2USXU4BeqG7MMa-qFILsDQ</td>\n",
              "      <td>Get here early. Ann's started up at 11:30 am. ...</td>\n",
              "      <td>2009-04-24 15:37:51</td>\n",
              "      <td>0</td>\n",
              "    </tr>\n",
              "    <tr>\n",
              "      <th>37109</th>\n",
              "      <td>317617</td>\n",
              "      <td>ETdIFA1A-xY1_HOol2K78g</td>\n",
              "      <td>Great burgers!</td>\n",
              "      <td>2009-04-19 02:28:55</td>\n",
              "      <td>0</td>\n",
              "    </tr>\n",
              "    <tr>\n",
              "      <th>3148</th>\n",
              "      <td>30135</td>\n",
              "      <td>f4zeVunnSBiO_yGhXgcahA</td>\n",
              "      <td>Awesome trivia night on Wednesdays</td>\n",
              "      <td>2009-04-18 22:40:39</td>\n",
              "      <td>0</td>\n",
              "    </tr>\n",
              "    <tr>\n",
              "      <th>4984</th>\n",
              "      <td>47467</td>\n",
              "      <td>u-4wti774tFcYRLuQrnHEg</td>\n",
              "      <td>If they happen to have the empanadas on specia...</td>\n",
              "      <td>2009-04-18 18:46:46</td>\n",
              "      <td>0</td>\n",
              "    </tr>\n",
              "    <tr>\n",
              "      <th>1618</th>\n",
              "      <td>15460</td>\n",
              "      <td>Z2qMwUhnGt_2pA9uQbS7Uw</td>\n",
              "      <td>Get the nacho tots (they aren't on the menu)</td>\n",
              "      <td>2009-04-16 03:28:36</td>\n",
              "      <td>0</td>\n",
              "    </tr>\n",
              "  </tbody>\n",
              "</table>\n",
              "<p>92952 rows × 5 columns</p>\n",
              "</div>"
            ],
            "text/plain": [
              "       tip_id             business_id  ...                date compliment_count\n",
              "59922  491444  vQ0ihvqI0Xpz8TxBIKK_qg  ... 2021-01-28 14:11:48                0\n",
              "86756  673716  4YrYLgICcDzoTtmdg-YjYg  ... 2021-01-28 03:55:00                0\n",
              "58713  484911  8sEbM_ACHUbBsZ-TRZFXWA  ... 2021-01-28 03:44:40                0\n",
              "50796  418407  18KiQCczOWOfJSlbbb7_Fw  ... 2021-01-28 01:31:52                0\n",
              "73186  578788  sRJ79RGt7a7V5ejrHtCA1A  ... 2021-01-27 23:22:04                0\n",
              "...       ...                     ...  ...                 ...              ...\n",
              "171      1511  2USXU4BeqG7MMa-qFILsDQ  ... 2009-04-24 15:37:51                0\n",
              "37109  317617  ETdIFA1A-xY1_HOol2K78g  ... 2009-04-19 02:28:55                0\n",
              "3148    30135  f4zeVunnSBiO_yGhXgcahA  ... 2009-04-18 22:40:39                0\n",
              "4984    47467  u-4wti774tFcYRLuQrnHEg  ... 2009-04-18 18:46:46                0\n",
              "1618    15460  Z2qMwUhnGt_2pA9uQbS7Uw  ... 2009-04-16 03:28:36                0\n",
              "\n",
              "[92952 rows x 5 columns]"
            ]
          },
          "metadata": {
            "tags": []
          },
          "execution_count": 78
        }
      ]
    },
    {
      "cell_type": "code",
      "metadata": {
        "id": "iJf57hOH_-KY"
      },
      "source": [
        "fewer_rest.to_json('/content/drive/MyDrive/550proj/small_rest.json', orient = 'records', lines = True)\n",
        "fewer_rev.to_json('/content/drive/MyDrive/550proj/small_rev.json', orient = 'records', lines = True)\n",
        "fewer_tips.to_json('/content/drive/MyDrive/550proj/small_tips.json', orient = 'records', lines = True)"
      ],
      "execution_count": null,
      "outputs": []
    },
    {
      "cell_type": "code",
      "metadata": {
        "id": "_HoTMF0M3wqX"
      },
      "source": [
        "fewer_rest = pd.read_json('/content/drive/MyDrive/550proj/small_rest.json', lines = True)\n",
        "fewer_rev = pd.read_json('/content/drive/MyDrive/550proj/small_rev.json', lines = True)\n",
        "fewer_tips = pd.read_json('/content/drive/MyDrive/550proj/small_tips.json', lines = True)\n",
        "zipfip = pd.read_json('/content/drive/MyDrive/550proj/location.json', lines = True)\n",
        "covid = pd.read_json('/content/drive/MyDrive/550proj/covid.json', lines = True)"
      ],
      "execution_count": null,
      "outputs": []
    },
    {
      "cell_type": "code",
      "metadata": {
        "id": "UudhT4a3EOtO",
        "colab": {
          "base_uri": "https://localhost:8080/"
        },
        "outputId": "86f5e45f-0c9a-413f-81df-546a8f825371"
      },
      "source": [
        "zipfip.shape"
      ],
      "execution_count": null,
      "outputs": [
        {
          "output_type": "execute_result",
          "data": {
            "text/plain": [
              "(41173, 2)"
            ]
          },
          "metadata": {
            "tags": []
          },
          "execution_count": 23
        }
      ]
    },
    {
      "cell_type": "code",
      "metadata": {
        "colab": {
          "base_uri": "https://localhost:8080/",
          "height": 419
        },
        "id": "FOw_RY43EDC6",
        "outputId": "860e9c93-685e-4c96-8aa8-0db12e882a8e"
      },
      "source": [
        "zipfip.drop_duplicates(subset = ['zipcode'])"
      ],
      "execution_count": null,
      "outputs": [
        {
          "output_type": "execute_result",
          "data": {
            "text/html": [
              "<div>\n",
              "<style scoped>\n",
              "    .dataframe tbody tr th:only-of-type {\n",
              "        vertical-align: middle;\n",
              "    }\n",
              "\n",
              "    .dataframe tbody tr th {\n",
              "        vertical-align: top;\n",
              "    }\n",
              "\n",
              "    .dataframe thead th {\n",
              "        text-align: right;\n",
              "    }\n",
              "</style>\n",
              "<table border=\"1\" class=\"dataframe\">\n",
              "  <thead>\n",
              "    <tr style=\"text-align: right;\">\n",
              "      <th></th>\n",
              "      <th>zipcode</th>\n",
              "      <th>fips</th>\n",
              "    </tr>\n",
              "  </thead>\n",
              "  <tbody>\n",
              "    <tr>\n",
              "      <th>0</th>\n",
              "      <td>70175</td>\n",
              "      <td>22071</td>\n",
              "    </tr>\n",
              "    <tr>\n",
              "      <th>1</th>\n",
              "      <td>11542</td>\n",
              "      <td>36059</td>\n",
              "    </tr>\n",
              "    <tr>\n",
              "      <th>2</th>\n",
              "      <td>11547</td>\n",
              "      <td>36059</td>\n",
              "    </tr>\n",
              "    <tr>\n",
              "      <th>3</th>\n",
              "      <td>11545</td>\n",
              "      <td>36059</td>\n",
              "    </tr>\n",
              "    <tr>\n",
              "      <th>4</th>\n",
              "      <td>11548</td>\n",
              "      <td>36059</td>\n",
              "    </tr>\n",
              "    <tr>\n",
              "      <th>...</th>\n",
              "      <td>...</td>\n",
              "      <td>...</td>\n",
              "    </tr>\n",
              "    <tr>\n",
              "      <th>41168</th>\n",
              "      <td>38342</td>\n",
              "      <td>47017</td>\n",
              "    </tr>\n",
              "    <tr>\n",
              "      <th>41169</th>\n",
              "      <td>38345</td>\n",
              "      <td>47077</td>\n",
              "    </tr>\n",
              "    <tr>\n",
              "      <th>41170</th>\n",
              "      <td>38344</td>\n",
              "      <td>47017</td>\n",
              "    </tr>\n",
              "    <tr>\n",
              "      <th>41171</th>\n",
              "      <td>38347</td>\n",
              "      <td>47023</td>\n",
              "    </tr>\n",
              "    <tr>\n",
              "      <th>41172</th>\n",
              "      <td>38346</td>\n",
              "      <td>47053</td>\n",
              "    </tr>\n",
              "  </tbody>\n",
              "</table>\n",
              "<p>41173 rows × 2 columns</p>\n",
              "</div>"
            ],
            "text/plain": [
              "       zipcode   fips\n",
              "0        70175  22071\n",
              "1        11542  36059\n",
              "2        11547  36059\n",
              "3        11545  36059\n",
              "4        11548  36059\n",
              "...        ...    ...\n",
              "41168    38342  47017\n",
              "41169    38345  47077\n",
              "41170    38344  47017\n",
              "41171    38347  47023\n",
              "41172    38346  47053\n",
              "\n",
              "[41173 rows x 2 columns]"
            ]
          },
          "metadata": {
            "tags": []
          },
          "execution_count": 24
        }
      ]
    },
    {
      "cell_type": "code",
      "metadata": {
        "id": "a747o2lH4A3M"
      },
      "source": [
        "fewer_rest.to_csv('/content/drive/MyDrive/550proj/small_rest.csv', index = False)"
      ],
      "execution_count": null,
      "outputs": []
    },
    {
      "cell_type": "code",
      "metadata": {
        "id": "13Vv8I2741Zk"
      },
      "source": [
        "\n",
        "fewer_rev.to_csv('/content/drive/MyDrive/550proj/small_rev.csv', index = False)\n",
        "fewer_tips.to_csv('/content/drive/MyDrive/550proj/small_tips.csv', index = False)\n",
        "zipfip.to_csv('/content/drive/MyDrive/550proj/location.csv', index = False)\n",
        "covid.to_csv('/content/drive/MyDrive/550proj/covid2.csv', index = False)"
      ],
      "execution_count": null,
      "outputs": []
    }
  ]
}
